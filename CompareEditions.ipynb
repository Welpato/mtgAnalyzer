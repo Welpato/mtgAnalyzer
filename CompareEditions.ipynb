{
 "cells": [
  {
   "cell_type": "code",
   "execution_count": 9,
   "metadata": {},
   "outputs": [],
   "source": [
    "import scipy\n",
    "import copy\n",
    "import pandas\n",
    "import numpy\n",
    "import matplotlib.pyplot as plt\n",
    "\n",
    "from IPython.display import display, HTML\n",
    "\n",
    "plt.rcParams['figure.figsize'] = (60,150)\n",
    "%matplotlib inline\n",
    "\n",
    "pandas.set_option('display.max_rows', 500)\n",
    "pandas.set_option('display.max_columns', 50)\n",
    "\n",
    "rarity = ['Common','Uncommon','Rare','Mythic Rare']\n",
    "rarityColors = ['black', 'silver', 'gold', 'orange']"
   ]
  },
  {
   "cell_type": "code",
   "execution_count": 7,
   "metadata": {},
   "outputs": [
    {
     "ename": "NameError",
     "evalue": "name 'pandas' is not defined",
     "output_type": "error",
     "traceback": [
      "\u001b[1;31m---------------------------------------------------------------------------\u001b[0m",
      "\u001b[1;31mNameError\u001b[0m                                 Traceback (most recent call last)",
      "\u001b[1;32m<ipython-input-7-e88cc47533aa>\u001b[0m in \u001b[0;36m<module>\u001b[1;34m()\u001b[0m\n\u001b[0;32m      1\u001b[0m \u001b[0msetNameOne\u001b[0m \u001b[1;33m=\u001b[0m \u001b[1;34m'Guilds of Ravnica'\u001b[0m\u001b[1;33m\u001b[0m\u001b[0m\n\u001b[1;32m----> 2\u001b[1;33m \u001b[0mcardSetOne\u001b[0m \u001b[1;33m=\u001b[0m \u001b[0mpandas\u001b[0m\u001b[1;33m.\u001b[0m\u001b[0mread_csv\u001b[0m\u001b[1;33m(\u001b[0m\u001b[1;34m'dataSet/sets/'\u001b[0m\u001b[1;33m+\u001b[0m\u001b[0msetNameOne\u001b[0m\u001b[1;33m+\u001b[0m\u001b[1;34m'.csv'\u001b[0m\u001b[1;33m)\u001b[0m\u001b[1;33m\u001b[0m\u001b[0m\n\u001b[0m",
      "\u001b[1;31mNameError\u001b[0m: name 'pandas' is not defined"
     ]
    }
   ],
   "source": [
    "setNameOne = 'Guilds of Ravnica'\n",
    "cardSetOne = pandas.read_csv('dataSet/sets/'+setNameOne+'.csv')"
   ]
  },
  {
   "cell_type": "code",
   "execution_count": 3,
   "metadata": {},
   "outputs": [],
   "source": [
    "setNameTwo = 'Amonkhet'\n",
    "cardSetTwo = pandas.read_csv('dataSet/sets/'+setNameTwo+'.csv')"
   ]
  },
  {
   "cell_type": "code",
   "execution_count": 6,
   "metadata": {},
   "outputs": [],
   "source": [
    "mythicCardsOne = cardSetOne[cardSetOne['rarity'] == 'Mythic Rare']\n",
    "rareCardsOne = cardSetOne[cardSetOne['rarity'] == 'Rare']\n",
    "uncommonCardsOne = cardSetOne[cardSetOne['rarity'] == 'Uncommon']\n",
    "commonCardsOne = cardSetOne[cardSetOne['rarity'] == 'Common']"
   ]
  },
  {
   "cell_type": "code",
   "execution_count": 8,
   "metadata": {},
   "outputs": [],
   "source": [
    "mythicCardsTwo = cardSetTwo[cardSetTwo['rarity'] == 'Mythic Rare']\n",
    "rareCardsTwo = cardSetTwo[cardSetTwo['rarity'] == 'Rare']\n",
    "uncommonCardsTwo = cardSetTwo[cardSetTwo['rarity'] == 'Uncommon']\n",
    "commonCardsTwo = cardSetTwo[cardSetTwo['rarity'] == 'Common']"
   ]
  },
  {
   "cell_type": "code",
   "execution_count": 9,
   "metadata": {},
   "outputs": [
    {
     "name": "stderr",
     "output_type": "stream",
     "text": [
      "c:\\users\\wesley\\appdata\\local\\programs\\python\\python35-32\\lib\\site-packages\\matplotlib\\figure.py:457: UserWarning: matplotlib is currently using a non-GUI backend, so cannot show the figure\n",
      "  \"matplotlib is currently using a non-GUI backend, \"\n"
     ]
    },
    {
     "data": {
      "image/png": "[encoded data removed]",
      "text/plain": [
       "<Figure size 720x360 with 2 Axes>"
      ]
     },
     "metadata": {},
     "output_type": "display_data"
    }
   ],
   "source": [
    "fig, (left, right) = plt.subplots(ncols=2, figsize=(10, 5))\n",
    "\n",
    "totalCardOne = [commonCardsOne.shape[0], uncommonCardsOne.shape[0], \n",
    "              rareCardsOne.shape[0], mythicCardsOne.shape[0]]\n",
    "barCountOne = left.bar(mtgBase.rarity, totalCardOne, color=mtgBase,rarityColors)\n",
    "left.set_title('Total cards :' + str(cardSetOne.shape[0]))\n",
    "\n",
    "totalCardsTwo = [commonCardsTwo.shape[0], uncommonCardsTwo.shape[0], \n",
    "              rareCardsTwo.shape[0], mythicCardsTwo.shape[0]]\n",
    "barCountTwo = right.bar(mtgBase.rarity, totalCardsTwo, color=mtgBase.rarityColors)\n",
    "right.set_title('Total cards :' + str(cardSetTwo.shape[0]))\n",
    "\n",
    "fig.suptitle('Compare: ' + setNameOne + ' - ' + setNameTwo )\n",
    "fig.show()"
   ]
  },
  {
   "cell_type": "code",
   "execution_count": 10,
   "metadata": {},
   "outputs": [
    {
     "name": "stderr",
     "output_type": "stream",
     "text": [
      "c:\\users\\wesley\\appdata\\local\\programs\\python\\python35-32\\lib\\site-packages\\matplotlib\\figure.py:457: UserWarning: matplotlib is currently using a non-GUI backend, so cannot show the figure\n",
      "  \"matplotlib is currently using a non-GUI backend, \"\n"
     ]
    },
    {
     "data": {
      "image/png": "[encoded data removed]",
      "text/plain": [
       "<Figure size 720x360 with 2 Axes>"
      ]
     },
     "metadata": {},
     "output_type": "display_data"
    }
   ],
   "source": [
    "fig, (left, right) = plt.subplots(ncols=2, figsize=(10, 5))\n",
    "\n",
    "cmcMedianOne = [commonCardsOne['cmc'].median(), uncommonCardsOne['cmc'].median(), \n",
    "              rareCardsOne['cmc'].median(), mythicCardsOne['cmc'].median()]\n",
    "barListCmcOne = left.bar(mtgBase.rarity, cmcMedianOne, color=mtgBase.rarityColors)\n",
    "right.set_title('Median CMC :' + str(cardSetOne['cmc'].median()))\n",
    "\n",
    "cmcMedianTwo = [commonCardsTwo['cmc'].median(), uncommonCardsTwo['cmc'].median(), \n",
    "              rareCardsTwo['cmc'].median(), mythicCardsTwo['cmc'].median()]\n",
    "barListCmcTwo = right.bar(mtgBase.rarity, cmcMedianTwo, color=mtgBase.rarityColors)\n",
    "left.set_title('Median CMC :' + str(cardSetTwo['cmc'].median()))\n",
    "\n",
    "fig.suptitle('Compare: ' + setNameOne + ' - ' + setNameTwo )\n",
    "fig.show()"
   ]
  }
 ],
 "metadata": {
  "kernelspec": {
   "display_name": "Python 3",
   "language": "python",
   "name": "python3"
  },
  "language_info": {
   "codemirror_mode": {
    "name": "ipython",
    "version": 3
   },
   "file_extension": ".py",
   "mimetype": "text/x-python",
   "name": "python",
   "nbconvert_exporter": "python",
   "pygments_lexer": "ipython3",
   "version": "3.5.2"
  }
 },
 "nbformat": 4,
 "nbformat_minor": 2
}
